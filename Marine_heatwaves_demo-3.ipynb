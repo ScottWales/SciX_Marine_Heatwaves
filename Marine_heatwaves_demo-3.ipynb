{
 "cells": [
  {
   "attachments": {},
   "cell_type": "markdown",
   "metadata": {},
   "source": [
    "# Marine Heatwaves 3\n",
    "# Marine Heatwaves and Coral Bleaching\n",
    "\n",
    "This introductory notebook to marine heatwaves (MHWs) examines global satellite sea surface temperature (SST) in the  National Oceanic and Atmospheric Administration Optimum  Interpolation  Sea  Surface Temperature (OISST) dataset. The MHW definition of Hobday et. at. (2016) is implented by the MHW tracker website http://www.marineheatwaves.org/tracker.html. \n",
    "\n",
    "\n",
    "### I'm not too sure how to proceed with this one - I can get sat data for coral bleaching hotspot and degree heating week (derived from SST?) \n",
    "\n",
    "\n",
    "To run this notebook, select a point on the MHW tracker map and then click **Time series** on the right hand side of the page.\n",
    "\n",
    "\n",
    "Next, download the **Climatology & Threshold (csv)** and open the next tab and download the **MHW data (csv)** and save both files in the folder where this notebook is saved.\n",
    "\n",
    "\n",
    "For more information on the OISST dataset:\n",
    "https://www.ncdc.noaa.gov/oisst\n",
    "\n",
    "\n",
    "\n",
    "(Ignore these)\n",
    "\n",
    "\n",
    "http://simondonner.com/bleachingdatabase/\n",
    "\n",
    "ReefBase (www.reefbase.org) is a global information system for coral reef conservationand management developed by WorldFish Centre, Penang, Malaysia. It provides managerswith monitoring data and advice on coral reefs, and stores all records from the GlobalCoral Reef Monitoring Network (GCRMN) and Reef Check. Worldwide coral bleachingreports, maps, photographs, and  literature  are  available  on  the  website, and  bleachingreports can be submitted online for inclusion into the databases.\n",
    "\n",
    "http://www.reefbase.org/gis_maps/datasets.aspx\n",
    "\n",
    "\n",
    "\n",
    " The  Great  Barrier  Reef  Marine  Park  Authority  (Australia)  (www.gbrmpa.gov.au)  hasdeveloped a volunteer program called 'BleachWatch' to encourage dive operators andother  regular  users  of  the  reef  to  monitor  for  bleaching  in  areas  they  frequently  visit.Similar programs have also been developed for use in Bali Barat National Park (Indonesia)and the Florida Keys National Marine Sanctuary (USA). BleachWatch kit materials, suchas an armband showing degrees of bleaching and reporting forms printed on waterproofpaper are designed specifically for these types of reef users so that they can easily noteand  report  any  bleaching  with  minimal  inconvenience  to  their  normal  operations. TheGBRMPA website is also a source of information and images relevant to coral bleaching.\n",
    " \n",
    " The  Coral  Reef  Alliance  (www.coralreefalliance.org)  hosts  the  International  Coral  ReefInformation Network library online. Bleaching papers, briefing sheets, reports and otherinformation can be accessed online\n",
    " \n",
    "The  National  Oceanic  and  Atmospheric  Administration  (NOAA)  Coral  ReefConservation  Program  (www.coralreef.noaa.gov)  provides  a  number  of  tools  andresources  related  to  coral  bleaching  events  such  as  Coral  Reef  Watch  (CRW).Coral  Reef  Watch  provides  three  tools  that  analyse  satellite  imagery  to  assess  thelikelihood  of  mass  coral  bleaching  events. These  products  are  freely  available  over  theInternet, and  include: HotSpot  maps, degree  heating  week  maps, and  Tropical  OceanCoral  Bleaching  Indices. Other  tools  and  information  are  available  through  NOAA'sCoral Reef Information System (www.coris.noaa.gov)."
   ]
  },
  {
   "cell_type": "code",
   "execution_count": 1,
   "metadata": {},
   "outputs": [
    {
     "name": "stderr",
     "output_type": "stream",
     "text": [
      "C:\\Users\\Annette\\Anaconda3\\lib\\site-packages\\dask\\config.py:168: YAMLLoadWarning: calling yaml.load() without Loader=... is deprecated, as the default Loader is unsafe. Please read https://msg.pyyaml.org/load for full details.\n",
      "  data = yaml.load(f.read()) or {}\n",
      "C:\\Users\\Annette\\Anaconda3\\lib\\site-packages\\distributed\\config.py:20: YAMLLoadWarning: calling yaml.load() without Loader=... is deprecated, as the default Loader is unsafe. Please read https://msg.pyyaml.org/load for full details.\n",
      "  defaults = yaml.load(f)\n"
     ]
    }
   ],
   "source": [
    "# Load required modules (ignore the yaml warning).\n",
    "import numpy as np\n",
    "import xarray as xr\n",
    "import pandas as pd\n",
    "from datetime import date, timedelta\n",
    "from matplotlib import pyplot as plt\n",
    "from pandas.plotting import register_matplotlib_converters\n",
    "register_matplotlib_converters()\n",
    "%matplotlib inline"
   ]
  },
  {
   "cell_type": "code",
   "execution_count": 37,
   "metadata": {},
   "outputs": [],
   "source": [
    "# Add the latitude and longitude of the data that you downloaded from the MHW tracker (must be exactly the same!).\n",
    "# lat = -18.875\n",
    "# lon = 147.625\n",
    "lat = -28.875\n",
    "lon = 112.875\n",
    "# Select a year year range to plot SST. It can be from 1981 to 2019, but only select a \n",
    "# few years or it will slow down the notebook and possibly throw an error. \n",
    "# You'll still have the full range of MHW statistics.\n",
    "year_start = 2015\n",
    "year_end = 2016"
   ]
  },
  {
   "cell_type": "markdown",
   "metadata": {},
   "source": [
    "Load in the csv files you downloaded from the MHW tracker site (depending on the lat/lon values)."
   ]
  },
  {
   "cell_type": "code",
   "execution_count": 39,
   "metadata": {},
   "outputs": [],
   "source": [
    "clim = pd.read_csv('clim_lon_{}_lat_{}.csv'.format(lon, lat))\n",
    "mhws = pd.read_csv('event_lon_{}_lat_{}.csv'.format(lon, lat), parse_dates=[4, 5, 6])"
   ]
  },
  {
   "cell_type": "code",
   "execution_count": null,
   "metadata": {},
   "outputs": [],
   "source": []
  },
  {
   "cell_type": "markdown",
   "metadata": {},
   "source": [
    "Open the SST satellite data as an xarray dataset (this may be slow depending on the year range):"
   ]
  },
  {
   "cell_type": "code",
   "execution_count": 4,
   "metadata": {},
   "outputs": [
    {
     "data": {
      "text/plain": [
       "<xarray.Dataset>\n",
       "Dimensions:  (lat: 720, lon: 1440, time: 730)\n",
       "Coordinates:\n",
       "  * lon      (lon) float32 0.125 0.375 0.625 0.875 ... 359.375 359.625 359.875\n",
       "  * lat      (lat) float32 -89.875 -89.625 -89.375 ... 89.375 89.625 89.875\n",
       "  * time     (time) datetime64[ns] 2010-01-01 2010-01-02 ... 2011-12-31\n",
       "Data variables:\n",
       "    sst      (time, lat, lon) float32 dask.array<shape=(730, 720, 1440), chunksize=(365, 720, 1440)>\n",
       "Attributes:\n",
       "    Conventions:                     CF-1.5\n",
       "    title:                           NOAA High-resolution Blended Analysis: D...\n",
       "    institution:                     NOAA/NCDC\n",
       "    source:                          NOAA/NCDC  ftp://eclipse.ncdc.noaa.gov/p...\n",
       "    comment:                         Reynolds, et al., 2007: Daily High-Resol...\n",
       "    history:                         Thu Aug 24 13:49:55 2017: ncatted -O -a ...\n",
       "    references:                      https://www.esrl.noaa.gov/psd/data/gridd...\n",
       "    dataset_title:                   NOAA Daily Optimum Interpolation Sea Sur...\n",
       "    DODS_EXTRA.Unlimited_Dimension:  time"
      ]
     },
     "execution_count": 4,
     "metadata": {},
     "output_type": "execute_result"
    }
   ],
   "source": [
    "# URL of NOAA OISST data (for our plot later).\n",
    "url_sst = 'http://www.esrl.noaa.gov/psd/thredds/dodsC/Datasets/noaa.oisst.v2.highres/sst.day.mean'\n",
    "\n",
    "# Create a list of file names in the selected year range.\n",
    "files = [f'{url_sst}.{year}.v2.nc' for year in range(year_start, year_end + 1)]\n",
    "ds = xr.open_mfdataset(files, parallel=True)\n",
    "sst = ds.sst.sel(lat=lat, lon=lon, method='nearest').values\n",
    "ds"
   ]
  },
  {
   "cell_type": "code",
   "execution_count": 44,
   "metadata": {},
   "outputs": [],
   "source": [
    "# http://oos.soest.hawaii.edu/thredds/catalog.html\n",
    "# http://oos.soest.hawaii.edu/thredds/dodsC/hioos/satellite/dhw_5km\n",
    "# url_crw = 'https://oceanwatch.pfeg.noaa.gov/thredds/dodsC/satellite/RW/hots/1day'\n",
    "url_crw = 'https://oceanwatch.pfeg.noaa.gov/thredds/dodsC/satellite/RW/dhws/1day'\n",
    "# /thredds/dodsC/hioos/satellite/dhw_5km\n",
    "crw = xr.open_dataset(url_crw)"
   ]
  },
  {
   "attachments": {
    "mhwsteee.PNG": {
     "image/png": "[encoded data removed]"
    }
   },
   "cell_type": "markdown",
   "metadata": {},
   "source": [
    "![mhwsteee.PNG](attachment:mhwsteee.PNG)"
   ]
  },
  {
   "cell_type": "code",
   "execution_count": 45,
   "metadata": {},
   "outputs": [
    {
     "data": {
      "text/plain": [
       "<xarray.Dataset>\n",
       "Dimensions:   (altitude: 1, lat: 332, lon: 720, time: 1065)\n",
       "Coordinates:\n",
       "  * altitude  (altitude) float64 0.0\n",
       "  * lat       (lat) float64 -80.25 -79.75 -79.25 -78.75 ... 84.25 84.75 85.25\n",
       "  * lon       (lon) float64 0.25 0.75 1.25 1.75 2.25 ... 358.2 358.8 359.2 359.8\n",
       "  * time      (time) datetime64[ns] 2000-12-02T12:00:00 ... 2011-03-03T12:00:00\n",
       "Data variables:\n",
       "    RWdhws    (time, altitude, lat, lon) float32 ...\n",
       "Attributes:\n",
       "    acknowledgement:               NOAA NESDIS COASTWATCH, NOAA SWFSC ERD\n",
       "    cdm_data_type:                 Grid\n",
       "    cols:                          720\n",
       "    composite:                     true\n",
       "    contributor_name:              NOAA NESDIS Coral Reef Watch\n",
       "    contributor_role:              Source of level 2 data.\n",
       "    Conventions:                   COARDS, CF-1.0, Unidata Dataset Discovery ...\n",
       "    creator_email:                 dave.foley@noaa.gov\n",
       "    creator_name:                  NOAA CoastWatch, West Coast Node\n",
       "    creator_url:                   http://coastwatch.pfel.noaa.gov\n",
       "    cwhdf_version:                 3.4\n",
       "    date_created:                  2011-03-06Z\n",
       "    date_issued:                   2011-03-06Z\n",
       "    Easternmost_Easting:           359.75\n",
       "    et_affine:                     [  0.     0.5    0.5    0.     0.25 -80.25]\n",
       "    gctp_datum:                    12\n",
       "    gctp_parm:                     [0. 0. 0. 0. 0. 0. 0. 0. 0. 0. 0. 0. 0. 0....\n",
       "    gctp_sys:                      0\n",
       "    gctp_zone:                     0\n",
       "    geospatial_lat_max:            85.25\n",
       "    geospatial_lat_min:            -80.25\n",
       "    geospatial_lat_resolution:     0.5\n",
       "    geospatial_lat_units:          degrees_north\n",
       "    geospatial_lon_max:            359.75\n",
       "    geospatial_lon_min:            0.25\n",
       "    geospatial_lon_resolution:     0.5\n",
       "    geospatial_lon_units:          degrees_east\n",
       "    geospatial_vertical_max:       0.0\n",
       "    geospatial_vertical_min:       0.0\n",
       "    geospatial_vertical_positive:  up\n",
       "    geospatial_vertical_units:     m\n",
       "    history:                       NOAA NESDIS Coral Reef Watch\\n2011-03-06T1...\n",
       "    id:                            LRWdhwsS1day_20110228120000\n",
       "    institution:                   NOAA CoastWatch, West Coast Node\n",
       "    keywords:                      EARTH SCIENCE > Oceans > Ocean Temperature...\n",
       "    keywords_vocabulary:           GCMD Science Keywords\n",
       "    license:                       The data may be used and redistributed for...\n",
       "    naming_authority:              gov.noaa.pfel.coastwatch\n",
       "    Northernmost_Northing:         85.25\n",
       "    origin:                        NOAA NESDIS Coral Reef Watch\n",
       "    pass_date:                     15033\n",
       "    polygon_latitude:              [-80.25  85.25  85.25 -80.25 -80.25]\n",
       "    polygon_longitude:             [2.5000e-01 2.5000e-01 3.5975e+02 3.5975e+...\n",
       "    processing_level:              3\n",
       "    project:                       CoastWatch (http://coastwatch.noaa.gov/)\n",
       "    projection:                    geographic\n",
       "    projection_type:               mapped\n",
       "    references:                    Coral Reef Watch: http://coralreefwatch.no...\n",
       "    rows:                          332\n",
       "    satellite:                     POES\n",
       "    sensor:                        AVHRR\n",
       "    source:                        satellite observation: POES, AVHRR\n",
       "    Southernmost_Northing:         -80.25\n",
       "    standard_name_vocabulary:      CF-1.0\n",
       "    start_time:                    0.0\n",
       "    summary:                       NOAA Coral Reef Watch distributes Degree H...\n",
       "    time_coverage_end:             2011-03-01T00:00:00Z\n",
       "    time_coverage_start:           2011-02-28T00:00:00Z\n",
       "    title:                         Coral Reef Watch, Degree Heating Weeks, 50 km\n",
       "    Westernmost_Easting:           0.25"
      ]
     },
     "execution_count": 45,
     "metadata": {},
     "output_type": "execute_result"
    }
   ],
   "source": [
    "crw"
   ]
  },
  {
   "cell_type": "code",
   "execution_count": 40,
   "metadata": {},
   "outputs": [
    {
     "name": "stdout",
     "output_type": "stream",
     "text": [
      "Maximum intensity: 6.13°C\n",
      "Average intensity: 3.05°C\n",
      "Cumulative intensity: 323.3°C-days\n",
      "Duration: 106 days\n",
      "Start date: 22 December 2010\n",
      "Peak date: 25 February 2011\n",
      "End date: 06 April 2011\n"
     ]
    },
    {
     "data": {
      "text/plain": [
       "Timestamp('2011-02-25 00:00:00')"
      ]
     },
     "execution_count": 40,
     "metadata": {},
     "output_type": "execute_result"
    }
   ],
   "source": [
    "ev = np.argmax(mhws.intensity_max)\n",
    "print('Maximum intensity: {:.2f}°C'.format(mhws.intensity_max[ev]))\n",
    "print('Average intensity: {:.2f}°C'.format(mhws.intensity_mean[ev]))\n",
    "print('Cumulative intensity: {:.1f}°C-days'.format(mhws.intensity_cumulative[ev]))\n",
    "print('Duration:', mhws.duration[ev], 'days')\n",
    "print('Start date:', mhws.date_start[ev].strftime(\"%d %B %Y\"))\n",
    "print('Peak date:', mhws.date_peak[ev].strftime(\"%d %B %Y\"))\n",
    "print('End date:', mhws.date_end[ev].strftime(\"%d %B %Y\"))\n",
    "mhws.date_peak[ev]"
   ]
  },
  {
   "cell_type": "code",
   "execution_count": 46,
   "metadata": {},
   "outputs": [
    {
     "data": {
      "text/plain": [
       "<matplotlib.collections.QuadMesh at 0x1f94ff0afd0>"
      ]
     },
     "execution_count": 46,
     "metadata": {},
     "output_type": "execute_result"
    },
    {
     "data": {
      "image/png": "[encoded data removed]",
      "text/plain": [
       "<Figure size 432x288 with 2 Axes>"
      ]
     },
     "metadata": {
      "needs_background": "light"
     },
     "output_type": "display_data"
    }
   ],
   "source": [
    "# f, (ax1, ax2, ax3) = plt.subplots(1, 3, figsize=(14, 4))\n",
    "levels = np.arange(1, 5 + 1)\n",
    "\n",
    "plt.plot\n",
    "crw.RWdhws.sel(time=mhws.date_peak[ev], method='nearest').plot(levels=levels)"
   ]
  },
  {
   "cell_type": "code",
   "execution_count": 42,
   "metadata": {},
   "outputs": [
    {
     "data": {
      "text/plain": [
       "<matplotlib.axes._subplots.AxesSubplot at 0x1f9546722e8>"
      ]
     },
     "execution_count": 42,
     "metadata": {},
     "output_type": "execute_result"
    },
    {
     "data": {
      "image/png": "[encoded data removed]",
      "text/plain": [
       "<Figure size 432x288 with 1 Axes>"
      ]
     },
     "metadata": {
      "needs_background": "light"
     },
     "output_type": "display_data"
    }
   ],
   "source": [
    "# mhws.intensity_max.plot()"
   ]
  },
  {
   "cell_type": "markdown",
   "metadata": {},
   "source": [
    "### Print out the first few lines of each file:"
   ]
  },
  {
   "cell_type": "code",
   "execution_count": 5,
   "metadata": {},
   "outputs": [
    {
     "data": {
      "text/html": [
       "<div>\n",
       "<style scoped>\n",
       "    .dataframe tbody tr th:only-of-type {\n",
       "        vertical-align: middle;\n",
       "    }\n",
       "\n",
       "    .dataframe tbody tr th {\n",
       "        vertical-align: top;\n",
       "    }\n",
       "\n",
       "    .dataframe thead th {\n",
       "        text-align: right;\n",
       "    }\n",
       "</style>\n",
       "<table border=\"1\" class=\"dataframe\">\n",
       "  <thead>\n",
       "    <tr style=\"text-align: right;\">\n",
       "      <th></th>\n",
       "      <th>lon</th>\n",
       "      <th>lat</th>\n",
       "      <th>doy</th>\n",
       "      <th>seas</th>\n",
       "      <th>thresh</th>\n",
       "    </tr>\n",
       "  </thead>\n",
       "  <tbody>\n",
       "    <tr>\n",
       "      <th>0</th>\n",
       "      <td>112.875</td>\n",
       "      <td>-28.875</td>\n",
       "      <td>1</td>\n",
       "      <td>22.04</td>\n",
       "      <td>23.38</td>\n",
       "    </tr>\n",
       "    <tr>\n",
       "      <th>1</th>\n",
       "      <td>112.875</td>\n",
       "      <td>-28.875</td>\n",
       "      <td>2</td>\n",
       "      <td>22.07</td>\n",
       "      <td>23.41</td>\n",
       "    </tr>\n",
       "    <tr>\n",
       "      <th>2</th>\n",
       "      <td>112.875</td>\n",
       "      <td>-28.875</td>\n",
       "      <td>3</td>\n",
       "      <td>22.10</td>\n",
       "      <td>23.44</td>\n",
       "    </tr>\n",
       "    <tr>\n",
       "      <th>3</th>\n",
       "      <td>112.875</td>\n",
       "      <td>-28.875</td>\n",
       "      <td>4</td>\n",
       "      <td>22.12</td>\n",
       "      <td>23.47</td>\n",
       "    </tr>\n",
       "    <tr>\n",
       "      <th>4</th>\n",
       "      <td>112.875</td>\n",
       "      <td>-28.875</td>\n",
       "      <td>5</td>\n",
       "      <td>22.15</td>\n",
       "      <td>23.50</td>\n",
       "    </tr>\n",
       "  </tbody>\n",
       "</table>\n",
       "</div>"
      ],
      "text/plain": [
       "       lon     lat  doy   seas  thresh\n",
       "0  112.875 -28.875    1  22.04   23.38\n",
       "1  112.875 -28.875    2  22.07   23.41\n",
       "2  112.875 -28.875    3  22.10   23.44\n",
       "3  112.875 -28.875    4  22.12   23.47\n",
       "4  112.875 -28.875    5  22.15   23.50"
      ]
     },
     "execution_count": 5,
     "metadata": {},
     "output_type": "execute_result"
    }
   ],
   "source": [
    "clim.head() # To show all the data: remove \".head()\"."
   ]
  },
  {
   "cell_type": "code",
   "execution_count": 6,
   "metadata": {},
   "outputs": [
    {
     "data": {
      "text/html": [
       "<div>\n",
       "<style scoped>\n",
       "    .dataframe tbody tr th:only-of-type {\n",
       "        vertical-align: middle;\n",
       "    }\n",
       "\n",
       "    .dataframe tbody tr th {\n",
       "        vertical-align: top;\n",
       "    }\n",
       "\n",
       "    .dataframe thead th {\n",
       "        text-align: right;\n",
       "    }\n",
       "</style>\n",
       "<table border=\"1\" class=\"dataframe\">\n",
       "  <thead>\n",
       "    <tr style=\"text-align: right;\">\n",
       "      <th></th>\n",
       "      <th>lon</th>\n",
       "      <th>lat</th>\n",
       "      <th>event_no</th>\n",
       "      <th>duration</th>\n",
       "      <th>date_start</th>\n",
       "      <th>date_peak</th>\n",
       "      <th>date_end</th>\n",
       "      <th>intensity_mean</th>\n",
       "      <th>intensity_max</th>\n",
       "      <th>intensity_cumulative</th>\n",
       "    </tr>\n",
       "  </thead>\n",
       "  <tbody>\n",
       "    <tr>\n",
       "      <th>0</th>\n",
       "      <td>112.875</td>\n",
       "      <td>-28.875</td>\n",
       "      <td>1</td>\n",
       "      <td>6</td>\n",
       "      <td>1982-08-07</td>\n",
       "      <td>1982-08-10</td>\n",
       "      <td>1982-08-12</td>\n",
       "      <td>1.327</td>\n",
       "      <td>1.47</td>\n",
       "      <td>7.96</td>\n",
       "    </tr>\n",
       "    <tr>\n",
       "      <th>1</th>\n",
       "      <td>112.875</td>\n",
       "      <td>-28.875</td>\n",
       "      <td>2</td>\n",
       "      <td>5</td>\n",
       "      <td>1983-01-16</td>\n",
       "      <td>1983-01-18</td>\n",
       "      <td>1983-01-20</td>\n",
       "      <td>1.608</td>\n",
       "      <td>1.70</td>\n",
       "      <td>8.04</td>\n",
       "    </tr>\n",
       "    <tr>\n",
       "      <th>2</th>\n",
       "      <td>112.875</td>\n",
       "      <td>-28.875</td>\n",
       "      <td>3</td>\n",
       "      <td>11</td>\n",
       "      <td>1983-06-06</td>\n",
       "      <td>1983-06-12</td>\n",
       "      <td>1983-06-16</td>\n",
       "      <td>1.971</td>\n",
       "      <td>2.45</td>\n",
       "      <td>21.68</td>\n",
       "    </tr>\n",
       "    <tr>\n",
       "      <th>3</th>\n",
       "      <td>112.875</td>\n",
       "      <td>-28.875</td>\n",
       "      <td>4</td>\n",
       "      <td>15</td>\n",
       "      <td>1984-06-28</td>\n",
       "      <td>1984-07-02</td>\n",
       "      <td>1984-07-12</td>\n",
       "      <td>1.830</td>\n",
       "      <td>2.12</td>\n",
       "      <td>27.45</td>\n",
       "    </tr>\n",
       "    <tr>\n",
       "      <th>4</th>\n",
       "      <td>112.875</td>\n",
       "      <td>-28.875</td>\n",
       "      <td>5</td>\n",
       "      <td>5</td>\n",
       "      <td>1984-07-28</td>\n",
       "      <td>1984-07-31</td>\n",
       "      <td>1984-08-01</td>\n",
       "      <td>1.288</td>\n",
       "      <td>1.36</td>\n",
       "      <td>6.44</td>\n",
       "    </tr>\n",
       "  </tbody>\n",
       "</table>\n",
       "</div>"
      ],
      "text/plain": [
       "       lon     lat  event_no  duration date_start  date_peak   date_end  \\\n",
       "0  112.875 -28.875         1         6 1982-08-07 1982-08-10 1982-08-12   \n",
       "1  112.875 -28.875         2         5 1983-01-16 1983-01-18 1983-01-20   \n",
       "2  112.875 -28.875         3        11 1983-06-06 1983-06-12 1983-06-16   \n",
       "3  112.875 -28.875         4        15 1984-06-28 1984-07-02 1984-07-12   \n",
       "4  112.875 -28.875         5         5 1984-07-28 1984-07-31 1984-08-01   \n",
       "\n",
       "   intensity_mean  intensity_max  intensity_cumulative  \n",
       "0           1.327           1.47                  7.96  \n",
       "1           1.608           1.70                  8.04  \n",
       "2           1.971           2.45                 21.68  \n",
       "3           1.830           2.12                 27.45  \n",
       "4           1.288           1.36                  6.44  "
      ]
     },
     "execution_count": 6,
     "metadata": {},
     "output_type": "execute_result"
    }
   ],
   "source": [
    "mhws.head()"
   ]
  }
 ],
 "metadata": {
  "kernelspec": {
   "display_name": "Python 3",
   "language": "python",
   "name": "python3"
  },
  "language_info": {
   "codemirror_mode": {
    "name": "ipython",
    "version": 3
   },
   "file_extension": ".py",
   "mimetype": "text/x-python",
   "name": "python",
   "nbconvert_exporter": "python",
   "pygments_lexer": "ipython3",
   "version": "3.7.3"
  }
 },
 "nbformat": 4,
 "nbformat_minor": 2
}
