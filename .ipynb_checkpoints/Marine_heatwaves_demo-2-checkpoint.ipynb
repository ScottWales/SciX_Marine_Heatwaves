{
 "cells": [
  {
   "cell_type": "markdown",
   "metadata": {},
   "source": [
    "# Driving mechanisms: Leeuwin Current MHW & El Niño–Southern Oscillation\n",
    "\n",
    "his notebook examines global satellite sea surface temperature (SST) in the  NOAA  Optimum  Interpolation  Sea  Surface Temperature (OISST) dataset. The Marine Heatwave (MHW) definition of Hobday et al. (found here: https://tos.org/oceanography/assets/docs/31-2_hobday.pdf) is implemented using the the marineHeatWaves module as outlined here: https://github.com/ecjoliver/marineHeatWaves/blob/master/docs/example_synthetic.ipynb.\n",
    "\n",
    "For more information on the OISST dataset:\n",
    "https://www.ncdc.noaa.gov/oisst\n",
    "\n",
    "\n",
    "The files can be found at: \n",
    "https://www.esrl.noaa.gov/psd/thredds/catalog/Datasets/noaa.oisst.v2.highres/catalog.html\n",
    "\n",
    "El Niño (La Niña) is a phenomenon in the equatorial Pacific Ocean characterized by a five consecutive 3-month running mean of sea surface temperature (SST) anomalies in the Niño 3.4 region that is above (below) the threshold of +0.5°C (-0.5°C). This standard of measure is known as the Oceanic Niño Index (ONI)."
   ]
  },
  {
   "cell_type": "code",
   "execution_count": 30,
   "metadata": {},
   "outputs": [],
   "source": [
    "%matplotlib inline\n",
    "# Load required modules\n",
    "import numpy as np\n",
    "import xarray as xr\n",
    "import scipy.stats as stats\n",
    "from urllib.request import Request, urlopen\n",
    "from matplotlib import pyplot as plt\n",
    "import time\n",
    "from datetime import date, timedelta\n",
    "import pandas as pd\n",
    "from pandas.plotting import register_matplotlib_converters\n",
    "register_matplotlib_converters()\n",
    "\n",
    "# Load marineHeatWaves definition module.\n",
    "# NOTE: marineHeatWaves.py must be saved in the same folder as this notebook,\n",
    "# which can be copied from https://github.com/ecjoliver/marineHeatWaves/blob/master/marineHeatWaves.py\n",
    "import marineHeatWaves as mhw\n",
    "\n",
    "import yaml # Don't worry about the yaml warming."
   ]
  },
  {
   "cell_type": "code",
   "execution_count": 3,
   "metadata": {},
   "outputs": [],
   "source": [
    "# Select year range (can be from 1981 to 2019, but less than 30 years).\n",
    "start_year = 2010\n",
    "end_year = 2011\n",
    "\n",
    "# NOAA URL of data.\n",
    "base_url_mean = 'http://www.esrl.noaa.gov/psd/thredds/dodsC/Datasets/noaa.oisst.v2.highres/sst.day.mean'\n",
    "base_url_anom = 'http://www.esrl.noaa.gov/psd/thredds/dodsC/Datasets/noaa.oisst.v2.highres/sst.day.anom'\n",
    "# Create a list of NOAA URLs in the year range.\n",
    "files_mean = [f'{base_url_mean}.{year}.v2.nc' for year in range(start_year, end_year + 1)]\n",
    "files_anom = [f'{base_url_anom}.{year}.v2.nc' for year in range(start_year, end_year + 1)]"
   ]
  },
  {
   "cell_type": "code",
   "execution_count": 10,
   "metadata": {},
   "outputs": [
    {
     "data": {
      "text/plain": [
       "<xarray.Dataset>\n",
       "Dimensions:  (lat: 720, lon: 1440, time: 182)\n",
       "Coordinates:\n",
       "  * lon      (lon) float32 0.125 0.375 0.625 0.875 ... 359.375 359.625 359.875\n",
       "  * lat      (lat) float32 -89.875 -89.625 -89.375 ... 89.375 89.625 89.875\n",
       "  * time     (time) datetime64[ns] 2010-12-01 2010-12-02 ... 2011-05-31\n",
       "Data variables:\n",
       "    anom     (time, lat, lon) float32 dask.array<shape=(182, 720, 1440), chunksize=(31, 720, 1440)>\n",
       "    sst      (time, lat, lon) float32 dask.array<shape=(182, 720, 1440), chunksize=(31, 720, 1440)>\n",
       "Attributes:\n",
       "    Conventions:                     CF-1.5\n",
       "    title:                           NOAA High-resolution Blended Analysis: D...\n",
       "    institution:                     NOAA/NCDC\n",
       "    source:                          NOAA/NCDC  ftp://eclipse.ncdc.noaa.gov/p...\n",
       "    comment:                         Reynolds, et al., 2007: Daily High-Resol...\n",
       "    history:                         Thu Aug 24 13:49:55 2017: ncatted -O -a ...\n",
       "    references:                      https://www.esrl.noaa.gov/psd/data/gridd...\n",
       "    dataset_title:                   NOAA Daily Optimum Interpolation Sea Sur...\n",
       "    DODS_EXTRA.Unlimited_Dimension:  time"
      ]
     },
     "execution_count": 10,
     "metadata": {},
     "output_type": "execute_result"
    }
   ],
   "source": [
    "# Open files as an xarray dataset (this may take a couple of minutes).\n",
    "ds = xr.open_mfdataset([files_mean, files_anom])\n",
    "# ds = xr.open_mfdataset(files_anom)\n",
    "ds = ds.sel(time=slice('2010-12', '2011-05'))\n",
    "ds"
   ]
  },
  {
   "cell_type": "code",
   "execution_count": null,
   "metadata": {},
   "outputs": [],
   "source": []
  },
  {
   "cell_type": "markdown",
   "metadata": {},
   "source": [
    "## Calculate the nino3.4 index:"
   ]
  },
  {
   "cell_type": "code",
   "execution_count": 5,
   "metadata": {},
   "outputs": [
    {
     "name": "stdout",
     "output_type": "stream",
     "text": [
      "Execution time: 0:00:00.002992\n"
     ]
    },
    {
     "data": {
      "text/plain": [
       "<xarray.DataArray 'anom' (time: 182)>\n",
       "dask.array<shape=(182,), dtype=float32, chunksize=(31,)>\n",
       "Coordinates:\n",
       "  * time     (time) datetime64[ns] 2010-12-01 2010-12-02 ... 2011-05-31"
      ]
     },
     "execution_count": 5,
     "metadata": {},
     "output_type": "execute_result"
    }
   ],
   "source": [
    "start = time.time()\n",
    "# Calculate the nino3.4 index averaged over the nino3.4 area (don't change the latitude and longitudes!).\n",
    "sst_anom_nino34 = ds.anom.sel(lat=slice(-5, 5), lon=slice(190, 240)).mean(['lon', 'lat'])\n",
    "print('Execution time:', str(timedelta(seconds=time.time() - start)))\n",
    "sst_anom_nino34"
   ]
  },
  {
   "cell_type": "code",
   "execution_count": null,
   "metadata": {},
   "outputs": [],
   "source": [
    "# # Calculate the SST climatology (month-to-month mean).\n",
    "# sst_clim = dn.groupby('time.month').mean('time')\n",
    "# print('Execution time:', str(timedelta(seconds=time.time() - start)))\n",
    "\n",
    "# # Calculate the SST anomaly (SST minus climatology).\n",
    "# sst_anom = dn.sel(time=slice('2011-01', '2011-05')).groupby('time.month') - sst_clim\n",
    "# sst_anom = sst_anom\n",
    "# print('Execution time:', str(timedelta(seconds=time.time() - start)))"
   ]
  },
  {
   "cell_type": "code",
   "execution_count": null,
   "metadata": {},
   "outputs": [],
   "source": []
  },
  {
   "cell_type": "code",
   "execution_count": null,
   "metadata": {},
   "outputs": [],
   "source": []
  },
  {
   "cell_type": "markdown",
   "metadata": {},
   "source": [
    "Calculate the MHW event of the Leeuwin Current:"
   ]
  },
  {
   "cell_type": "code",
   "execution_count": 11,
   "metadata": {},
   "outputs": [
    {
     "name": "stdout",
     "output_type": "stream",
     "text": [
      "Execution time: 0:00:00.004986\n"
     ]
    }
   ],
   "source": [
    "start = time.time()\n",
    "#32 – 26uS, 112 – 115uE\n",
    "sst_lc = ds.sst.sel(lat=slice(-32, -26), lon=slice(112, 115)).mean(['lat', 'lon'])\n",
    "sst_anom_lc = ds.anom.sel(lat=slice(-32, -26), lon=slice(112, 115)).mean(['lat', 'lon'])\n",
    "print('Execution time:', str(timedelta(seconds=time.time() - start)))"
   ]
  },
  {
   "cell_type": "code",
   "execution_count": 8,
   "metadata": {},
   "outputs": [],
   "source": [
    "# sst_anom_lc = ds.anom.sel(lat=slice(-32, -26), lon=slice(112, 115)).mean(['lat', 'lon'])"
   ]
  },
  {
   "cell_type": "code",
   "execution_count": null,
   "metadata": {},
   "outputs": [],
   "source": [
    "# # Calculate the SST climatology (month-to-month mean). Takes ~3 mins.\n",
    "# lc_clim = dl.groupby('time.month').mean('time')\n",
    "# print('Execution time:', str(timedelta(seconds=time.time() - start)))\n",
    "\n",
    "# # Calculate the SST anomaly (SST minus climatology). Takes ~3 mins.\n",
    "# lc_anom = dl.groupby('time.month') - lc_clim\n",
    "# print('Execution time:', str(timedelta(seconds=time.time() - start)))"
   ]
  },
  {
   "cell_type": "code",
   "execution_count": 7,
   "metadata": {},
   "outputs": [],
   "source": [
    "# Generate a list of dates in (year, month, day) format.\n",
    "dates = ds.time.values.astype('datetime64[s]').tolist()\n",
    "\n",
    "# Generate an array time values (in simple numbers for the mhw detect module). \n",
    "# If you're curious: ordinal means January 1st of 1582 is day 1 and, for example, January 1st 1998 is day 729390.\n",
    "t = np.arange(dates[0].toordinal(), dates[-1].toordinal() + 1)"
   ]
  },
  {
   "cell_type": "code",
   "execution_count": 12,
   "metadata": {},
   "outputs": [],
   "source": [
    "mhws, clim = mhw.detect(t, sst_lc.values)\n",
    "ev = np.argmax(mhws['intensity_max']) # Finds the index of the largest event."
   ]
  },
  {
   "cell_type": "markdown",
   "metadata": {},
   "source": [
    "## Plot a timeseries of the Nino 3.4 SST anomalies and Leeuwin Current SST:"
   ]
  },
  {
   "cell_type": "code",
   "execution_count": null,
   "metadata": {},
   "outputs": [],
   "source": [
    "start = time.time()\n",
    "fig, (ax1, ax2) = plt.subplots(2, figsize=(10, 5), sharex=True)\n",
    "\n",
    "# Subplot 1: Nino 3.4 anomalies.\n",
    "ax1.set_title('Nino 3.4 SST anomaly (black),  mean SST (blue), \\\n",
    "              threshold (green), detected events (shading)')\n",
    "bnd1 = 0.4 # Upper bound of Nino 3.4 threshold (in °C).\n",
    "bnd2 = -bnd1 # Lower bound of Nino 3.4 threshold (in °C).\n",
    "# Plot the Nino 3.4 SST anomaly as a black line.\n",
    "ax1.plot(ds.time, sst_anom_nino34, 'k-', linewidth=2)\n",
    "# Plots a blue line at 0°C (climatology).\n",
    "ax1.axhline(y=0, color='b', linewidth=2)\n",
    "# Plot a green line at the upper and lower bounds.\n",
    "ax1.axhline(y=bnd1, color='g', linewidth=2) \n",
    "ax1.axhline(y=bnd2, color='g', linewidth=2)\n",
    "# Shades the SST anomaly red (blue) if greater (lower) than the bounds.\n",
    "ax1.fill_between(t, bnd1, sst_anom_nino34, where=sst_anom_nino34 > bnd1, facecolor='red') # Red for El Nino.\n",
    "ax1.fill_between(t, bnd2, sst_anom_nino34, where=sst_anom_nino34 < bnd2, facecolor='blue') # Blue for La Nina.\n",
    "# Label the y-axis.\n",
    "ax1.set_ylabel('SST anomaly [°C]')\n",
    "# Set the maximum and minimum SST anomaly range.\n",
    "ax1.set_ylim(sst_anom_nino34.min() - 0.1, sst_anom_nino34.max() + 0.1)\n",
    "# Restrict the x-axis to the data's time series (sharing x-axis, so works for both plots).\n",
    "ax1.set_xlim(t[0], t[-1]) \n",
    "print('Execution time:', str(timedelta(seconds=time.time() - start)))\n",
    "\n",
    "# Subplot 2: Leeuwin Current SST.\n",
    "# Plot SST, seasonal cycle, threshold, shade MHWs with main event in red\n",
    "ax2.set_title('Leeuwin Current SST (black),  climatology (blue), \\\n",
    "              threshold (green), detected MHW events (shading)')\n",
    "ax2.plot(dates, sst_lc, 'k-', linewidth=2)\n",
    "ax2.plot(dates, clim['thresh'], 'g-', linewidth=2)\n",
    "ax2.plot(dates, clim['seas'], 'b-', linewidth=2)\n",
    "\n",
    "# Find indices for closest MHW before and after event of interest and shade accordingly.\n",
    "for ev0 in np.arange(ev - 1, ev + 1, 1):\n",
    "    t1 = np.where(t == mhws['time_start'][ev0])[0][0]\n",
    "    t2 = np.where(t == mhws['time_end'][ev0])[0][0]\n",
    "    plt.fill_between(dates[t1:t2 + 1], sst_lc[t1:t2 + 1], clim['thresh'][t1:t2 + 1], \\\n",
    "                     color=(1, 0.6, 0.5))\n",
    "\n",
    "# Find indices for MHW start and end date of interest and shade accordingly\n",
    "t1 = np.where(t == mhws['time_start'][ev])[0][0]\n",
    "t2 = np.where(t == mhws['time_end'][ev])[0][0]\n",
    "plt.fill_between(dates[t1:t2+1], sst_lc[t1:t2+1], clim['thresh'][t1:t2 + 1], \\\n",
    "                 color='r')\n",
    "plt.ylim(clim['seas'].min() - 1, clim['seas'].max() + mhws['intensity_max'][ev] + 0.5)\n",
    "plt.ylabel('SST [°C]')\n",
    "print('Execution time:', str(timedelta(seconds=time.time() - start)))\n",
    "plt.savefig('Nino34_Leeuwin_Current_timeseries.png')"
   ]
  },
  {
   "cell_type": "code",
   "execution_count": null,
   "metadata": {},
   "outputs": [],
   "source": [
    "# Might need later.\n",
    "start = time.time() # Records the time now (to get total computation time later).\n",
    "print('Execution time:', str(timedelta(seconds=time.time() - start))) # Format is hours:minutes:seconds"
   ]
  },
  {
   "cell_type": "code",
   "execution_count": 29,
   "metadata": {},
   "outputs": [
    {
     "data": {
      "text/plain": [
       "<matplotlib.collections.PolyCollection at 0x2949c919dd8>"
      ]
     },
     "execution_count": 29,
     "metadata": {},
     "output_type": "execute_result"
    },
    {
     "data": {
      "image/png": "[encoded data removed]",
      "text/plain": [
       "<Figure size 432x288 with 1 Axes>"
      ]
     },
     "metadata": {
      "needs_background": "light"
     },
     "output_type": "display_data"
    }
   ],
   "source": [
    "# plt.figure()\n",
    "plt.plot(dates, sst_anom_lc, 'k-', linewidth=2)\n",
    "\n",
    "plt.fill_between(t, 1, sst_anom_lc, where=sst_anom_lc > 1, facecolor=(1, 0.6, 0.5), alpha=0.5) # Red for El Nino.\n",
    "plt.fill_between(t, 2, sst_anom_lc, where=sst_anom_lc > 2, facecolor=('red')) # Red for El Nino.\n",
    "# Find indices for closest MHW before and after event of interest and shade accordingly.\n",
    "\n"
   ]
  },
  {
   "cell_type": "code",
   "execution_count": 24,
   "metadata": {},
   "outputs": [
    {
     "data": {
      "text/plain": [
       "'25 February 2011'"
      ]
     },
     "execution_count": 24,
     "metadata": {},
     "output_type": "execute_result"
    }
   ],
   "source": [
    "mhws['date_start'][ev].strftime(\"%d %B %Y\")"
   ]
  },
  {
   "cell_type": "code",
   "execution_count": null,
   "metadata": {},
   "outputs": [],
   "source": []
  }
 ],
 "metadata": {
  "kernelspec": {
   "display_name": "Python 3",
   "language": "python",
   "name": "python3"
  },
  "language_info": {
   "codemirror_mode": {
    "name": "ipython",
    "version": 3
   },
   "file_extension": ".py",
   "mimetype": "text/x-python",
   "name": "python",
   "nbconvert_exporter": "python",
   "pygments_lexer": "ipython3",
   "version": "3.7.3"
  }
 },
 "nbformat": 4,
 "nbformat_minor": 2
}
